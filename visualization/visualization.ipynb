
{
 "cells": [
  {
   "cell_type": "code",
   "execution_count": null,
   "id": "import-libraries",
   "metadata": {},
   "outputs": [],
   "source": [
    "# Import necessary libraries\n",
    "import matplotlib.pyplot as plt\n",
    "import pandas as pd"
   ]
  },
  {
   "cell_type": "code",
   "execution_count": null,
   "id": "visualize-results",
   "metadata": {},
   "outputs": [],
   "source": [
    "# Visualize results\n",
    "results = pd.read_csv('results.csv')\n",
    "plt.plot(results['epoch'], results['accuracy'])\n",
    "plt.title('Model Accuracy')\n",
    "plt.show()"
   ]
  }
 ]
}
