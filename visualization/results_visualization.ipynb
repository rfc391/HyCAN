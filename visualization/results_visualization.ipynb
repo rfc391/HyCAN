{
 "cells": [
  {
   "cell_type": "markdown",
   "id": "3d1edc58",
   "metadata": {},
   "source": [
    "# Notebook for HyCAN Project"
   ]
  },
  {
   "cell_type": "code",
   "execution_count": null,
   "id": "00a50ace",
   "metadata": {},
   "outputs": [],
   "source": [
    "# Results Visualization Notebook\n",
    "\n",
    "import pandas as pd\n",
    "import matplotlib.pyplot as plt\n",
    "\n",
    "# Load preprocessed data\n",
    "data = pd.read_csv('preprocessed_data.csv')\n",
    "\n",
    "# Plot distributions of features\n",
    "data.hist(bins=30, figsize=(15, 10))\n",
    "plt.tight_layout()\n",
    "plt.show()\n",
    "\n",
    "# Load model and visualize feature importance\n",
    "import joblib\n",
    "model = joblib.load('random_forest_model.pkl')\n",
    "importances = model.feature_importances_\n",
    "features = data.columns[:-1]\n",
    "\n",
    "# Plot feature importance\n",
    "plt.figure(figsize=(10, 6))\n",
    "plt.bar(features, importances)\n",
    "plt.xlabel('Features')\n",
    "plt.ylabel('Importance')\n",
    "plt.title('Feature Importance')\n",
    "plt.show()"
   ]
  }
 ],
 "metadata": {},
 "nbformat": 4,
 "nbformat_minor": 5
}
