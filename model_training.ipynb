{
 "cells": [
  {
   "cell_type": "markdown",
   "id": "56a1218c",
   "metadata": {},
   "source": [
    "# Notebook for HyCAN Project"
   ]
  },
  {
   "cell_type": "code",
   "execution_count": null,
   "id": "df2c7131",
   "metadata": {},
   "outputs": [],
   "source": [
    "# Model Training Notebook\n",
    "\n",
    "import pandas as pd\n",
    "from sklearn.model_selection import train_test_split\n",
    "from sklearn.ensemble import RandomForestClassifier\n",
    "from sklearn.metrics import accuracy_score\n",
    "\n",
    "# Load preprocessed data\n",
    "data = pd.read_csv('preprocessed_data.csv')\n",
    "\n",
    "# Split the data into training and testing sets\n",
    "X = data.drop(columns=['target'])\n",
    "y = data['target']\n",
    "X_train, X_test, y_train, y_test = train_test_split(X, y, test_size=0.2, random_state=42)\n",
    "\n",
    "# Initialize and train the model\n",
    "model = RandomForestClassifier(random_state=42)\n",
    "model.fit(X_train, y_train)\n",
    "\n",
    "# Evaluate the model\n",
    "y_pred = model.predict(X_test)\n",
    "accuracy = accuracy_score(y_test, y_pred)\n",
    "print(f\"Model accuracy: {accuracy * 100:.2f}%\")\n",
    "\n",
    "# Save the trained model\n",
    "import joblib\n",
    "joblib.dump(model, 'random_forest_model.pkl')\n",
    "print(\"Model training complete!\")"
   ]
  }
 ],
 "metadata": {},
 "nbformat": 4,
 "nbformat_minor": 5
}
