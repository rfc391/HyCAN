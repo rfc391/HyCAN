{
 "cells": [
  {
   "cell_type": "markdown",
   "id": "e30e9c20",
   "metadata": {},
   "source": [
    "# Notebook for HyCAN Project"
   ]
  },
  {
   "cell_type": "code",
   "execution_count": null,
   "id": "fd4ecd32",
   "metadata": {},
   "outputs": [],
   "source": [
    "# Data Preprocessing Notebook\n",
    "\n",
    "import pandas as pd\n",
    "import numpy as np\n",
    "\n",
    "# Load dataset\n",
    "data = pd.read_csv('sample_dataset.csv')\n",
    "\n",
    "# Basic information about the dataset\n",
    "print(data.info())\n",
    "\n",
    "# Handling missing values\n",
    "data.fillna(data.mean(), inplace=True)\n",
    "\n",
    "# Feature scaling\n",
    "from sklearn.preprocessing import StandardScaler\n",
    "scaler = StandardScaler()\n",
    "scaled_features = scaler.fit_transform(data.drop(columns=['target']))\n",
    "\n",
    "# Save preprocessed data\n",
    "preprocessed_data = pd.DataFrame(scaled_features, columns=data.columns[:-1])\n",
    "preprocessed_data['target'] = data['target']\n",
    "preprocessed_data.to_csv('preprocessed_data.csv', index=False)\n",
    "print(\"Data preprocessing complete!\")"
   ]
  }
 ],
 "metadata": {},
 "nbformat": 4,
 "nbformat_minor": 5
}
